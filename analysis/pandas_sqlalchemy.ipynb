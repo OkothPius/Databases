{
 "cells": [
  {
   "cell_type": "code",
   "execution_count": 7,
   "id": "2b380c89",
   "metadata": {},
   "outputs": [],
   "source": [
    "from sqlalchemy import create_engine\n",
    "from os import environ\n",
    "import pandas as pd\n",
    "import matplotlib\n",
    "\n",
    "# db_uri = environ.get('SQLALCHEMY_SALES_URI')\n",
    "engine = create_engine(\"mysql+mysqlconnector://oruko:<P1r$Hg02ram/>@localhost:3306/sales\")"
   ]
  },
  {
   "cell_type": "code",
   "execution_count": 8,
   "id": "7592a9e3",
   "metadata": {},
   "outputs": [],
   "source": [
    "salespeople_df = pd.read_sql_table(\"salesperson\", con=engine)"
   ]
  },
  {
   "cell_type": "code",
   "execution_count": 10,
   "id": "2a6177db",
   "metadata": {},
   "outputs": [],
   "source": [
    "email_address_df = pd.read_sql(\"SELECT email_address FROM salesperson LIMIT 10\", con=engine)"
   ]
  },
  {
   "cell_type": "code",
   "execution_count": 11,
   "id": "687713ec",
   "metadata": {},
   "outputs": [
    {
     "data": {
      "text/plain": [
       "Texas\\r             9\n",
       "Virginia\\r          4\n",
       "Florida\\r           4\n",
       "Ohio\\r              3\n",
       "California\\r        3\n",
       "Minnesota\\r         3\n",
       "Indiana\\r           2\n",
       "Oklahoma\\r          2\n",
       "Kansas\\r            2\n",
       "Alabama\\r           2\n",
       "Washington\\r        2\n",
       "Tennessee\\r         2\n",
       "Arizona\\r           1\n",
       "Michigan\\r          1\n",
       "Connecticut\\r       1\n",
       "Colorado\\r          1\n",
       "Utah\\r              1\n",
       "New Mexico\\r        1\n",
       "North Carolina\\r    1\n",
       "New York\\r          1\n",
       "Massachusetts\\r     1\n",
       "Illinois\\r          1\n",
       "New Hampshire\\r     1\n",
       "Kentucky\\r          1\n",
       "Minnesota           1\n",
       "Name: state, dtype: int64"
      ]
     },
     "execution_count": 11,
     "metadata": {},
     "output_type": "execute_result"
    }
   ],
   "source": [
    "salespeople_df['state'].value_counts()"
   ]
  },
  {
   "cell_type": "code",
   "execution_count": 12,
   "id": "71715424",
   "metadata": {},
   "outputs": [
    {
     "data": {
      "text/plain": [
       "<AxesSubplot:>"
      ]
     },
     "execution_count": 12,
     "metadata": {},
     "output_type": "execute_result"
    },
    {
     "name": "stderr",
     "output_type": "stream",
     "text": [
      "/home/kmaster/anaconda3/lib/python3.9/site-packages/matplotlib/backends/backend_agg.py:240: RuntimeWarning: Glyph 13 missing from current font.\n",
      "  font.set_text(s, 0.0, flags=flags)\n",
      "/home/kmaster/anaconda3/lib/python3.9/site-packages/matplotlib/backends/backend_agg.py:203: RuntimeWarning: Glyph 13 missing from current font.\n",
      "  font.set_text(s, 0, flags=flags)\n"
     ]
    },
    {
     "data": {
      "image/png": "[encoded data removed]",
      "text/plain": [
       "<Figure size 432x288 with 1 Axes>"
      ]
     },
     "metadata": {
      "needs_background": "light"
     },
     "output_type": "display_data"
    }
   ],
   "source": [
    "salespeople_df['state'].value_counts().plot(kind='barh')"
   ]
  },
  {
   "cell_type": "code",
   "execution_count": null,
   "id": "b1c86f95",
   "metadata": {},
   "outputs": [],
   "source": []
  }
 ],
 "metadata": {
  "kernelspec": {
   "display_name": "Python 3 (ipykernel)",
   "language": "python",
   "name": "python3"
  },
  "language_info": {
   "codemirror_mode": {
    "name": "ipython",
    "version": 3
   },
   "file_extension": ".py",
   "mimetype": "text/x-python",
   "name": "python",
   "nbconvert_exporter": "python",
   "pygments_lexer": "ipython3",
   "version": "3.9.7"
  }
 },
 "nbformat": 4,
 "nbformat_minor": 5
}
